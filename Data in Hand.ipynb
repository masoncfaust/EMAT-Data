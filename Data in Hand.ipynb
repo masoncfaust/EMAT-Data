{
 "cells": [
  {
   "cell_type": "code",
   "execution_count": 93,
   "id": "protective-string",
   "metadata": {},
   "outputs": [],
   "source": [
    "import requests\n",
    "import urllib\n",
    "import json\n",
    "import pandas as pd"
   ]
  },
  {
   "cell_type": "code",
   "execution_count": 94,
   "id": "atomic-suspension",
   "metadata": {},
   "outputs": [],
   "source": [
    "tokens = pd.read_csv(r'C:\\Users\\mason\\Desktop\\Twitter Keys.txt', sep = '\\t', header = None).T\n",
    "tokens.columns = tokens.iloc[0]\n",
    "tokens = tokens[1:]\n",
    "#tokens.Bearer_Token[1]"
   ]
  },
  {
   "cell_type": "markdown",
   "id": "pleased-london",
   "metadata": {},
   "source": [
    "Here I am accessing a tab seperated text file on my desktop that contains the twitter API Keys that allow me to access the app thats in my project that lets me use Twitter API to access Twitters post data. I also transposed the data so that instead of the keys being organised by columns they are organised by rows."
   ]
  },
  {
   "cell_type": "code",
   "execution_count": 95,
   "id": "recent-english",
   "metadata": {},
   "outputs": [],
   "source": [
    "def auth():\n",
    "    return tokens.Bearer_Token[1]\n",
    "\n",
    "#print(auth())"
   ]
  },
  {
   "cell_type": "code",
   "execution_count": 96,
   "id": "awful-posting",
   "metadata": {
    "scrolled": true
   },
   "outputs": [
    {
     "name": "stdout",
     "output_type": "stream",
     "text": [
      "https://api.twitter.com/2/tweets/search/recent?query=%28BLM%29%20OR%20%23BLM%20-is%3Aretweet&tweet.fields=author_id,conversation_id,public_metrics,id,text\n"
     ]
    }
   ],
   "source": [
    "def create_url():\n",
    "    query = urllib.parse.quote('(BLM) OR #BLM -is:retweet')\n",
    "    tweet_fields = 'tweet.fields=author_id,conversation_id,public_metrics,id,text'\n",
    "    url = 'https://api.twitter.com/2/tweets/search/recent?query={}&{}'.format(query, tweet_fields)\n",
    "    return url\n",
    "\n",
    "print(create_url())"
   ]
  },
  {
   "cell_type": "markdown",
   "id": "atomic-silver",
   "metadata": {},
   "source": [
    "Here I created a url where I can request twitter data and create a query where I can specify what data I want.  So far I have set my query to search for tweets that contain the text and or hashtag \"BLM\". Then I narrow down the tweet fields to only show the author id, the conversationid, the public metrics (which are the amount of likes, quotes, replys and retweets), and the text written in the tweet. I can add and remove these tweet fields to best fit my analysis once I start the analyzing porton of the project but these are the ones I'm testing out so I know how to make them work."
   ]
  },
  {
   "cell_type": "code",
   "execution_count": 97,
   "id": "looking-country",
   "metadata": {},
   "outputs": [],
   "source": [
    "def create_headers(bearer_token):\n",
    "    headers = {\"Authorization\": \"Bearer {}\".format(bearer_token)}\n",
    "    return headers\n",
    "\n",
    "#print(create_headers(token.Bearer_Token[1]))"
   ]
  },
  {
   "cell_type": "code",
   "execution_count": 98,
   "id": "possible-identifier",
   "metadata": {},
   "outputs": [],
   "source": [
    "def connect_to_endpoint(url, headers):\n",
    "    response = requests.request(\"GET\", url, headers=headers)\n",
    "    print(response.status_code)\n",
    "    if response.status_code != 200:\n",
    "        raise Exception(response.status_code, response.text)\n",
    "    return response.json()"
   ]
  },
  {
   "cell_type": "code",
   "execution_count": 99,
   "id": "proof-profession",
   "metadata": {},
   "outputs": [],
   "source": [
    "def main():\n",
    "    bearer_token = auth()\n",
    "    url = create_url()\n",
    "    headers = create_headers(bearer_token)\n",
    "    json_response = connect_to_endpoint(url, headers)\n",
    "    print(json.dumps(json_response, indent = 4, sort_keys = True))"
   ]
  },
  {
   "cell_type": "markdown",
   "id": "front-toolbox",
   "metadata": {},
   "source": [
    "Here I request the data be presented as json data and to print it below. I have requested the 10 most recent tweets that contain BLM in either the text or as a hashtag. Once I start the analysis I will start to request more data as well as more specific data. But as of now I have access to the data and understand the data structure."
   ]
  },
  {
   "cell_type": "code",
   "execution_count": 102,
   "id": "strong-moral",
   "metadata": {
    "scrolled": true
   },
   "outputs": [
    {
     "name": "stdout",
     "output_type": "stream",
     "text": [
      "200\n",
      "{\n",
      "    \"data\": [\n",
      "        {\n",
      "            \"author_id\": \"1113806180990705665\",\n",
      "            \"conversation_id\": \"1385170259854848000\",\n",
      "            \"id\": \"1386841384280223746\",\n",
      "            \"public_metrics\": {\n",
      "                \"like_count\": 0,\n",
      "                \"quote_count\": 0,\n",
      "                \"reply_count\": 0,\n",
      "                \"retweet_count\": 0\n",
      "            },\n",
      "            \"text\": \"Grgr tweet ini w mimpi udah nikah dan mo nikah plis deh kerja aja blm\"\n",
      "        },\n",
      "        {\n",
      "            \"author_id\": \"1360952032224374788\",\n",
      "            \"conversation_id\": \"1386841377468665859\",\n",
      "            \"id\": \"1386841377468665859\",\n",
      "            \"public_metrics\": {\n",
      "                \"like_count\": 0,\n",
      "                \"quote_count\": 0,\n",
      "                \"reply_count\": 0,\n",
      "                \"retweet_count\": 0\n",
      "            },\n",
      "            \"text\": \"yg blm gua fb coba rep sini\"\n",
      "        },\n",
      "        {\n",
      "            \"author_id\": \"2316137724\",\n",
      "            \"conversation_id\": \"1386841370241998848\",\n",
      "            \"id\": \"1386841370241998848\",\n",
      "            \"public_metrics\": {\n",
      "                \"like_count\": 0,\n",
      "                \"quote_count\": 0,\n",
      "                \"reply_count\": 0,\n",
      "                \"retweet_count\": 219\n",
      "            },\n",
      "            \"text\": \"RT @RealMattCouch: BREAKING: Rep. Marjorie Taylor Green Files Resolution to Expel Maxine Waters from Congress for Inciting Violence &amp; Order\\u2026\"\n",
      "        },\n",
      "        {\n",
      "            \"author_id\": \"3218805784\",\n",
      "            \"conversation_id\": \"1386841365246615557\",\n",
      "            \"id\": \"1386841365246615557\",\n",
      "            \"public_metrics\": {\n",
      "                \"like_count\": 0,\n",
      "                \"quote_count\": 0,\n",
      "                \"reply_count\": 0,\n",
      "                \"retweet_count\": 1084\n",
      "            },\n",
      "            \"text\": \"RT @2emaNdelbbircS: I\\u2019m sure y\\u2019all already know, but Home Depot won\\u2019t buy into the BLM BS. Soooooo the left is boycotting them. BUY AT HOME\\u2026\"\n",
      "        },\n",
      "        {\n",
      "            \"author_id\": \"1270383518518882305\",\n",
      "            \"conversation_id\": \"1386841362604052481\",\n",
      "            \"id\": \"1386841362604052481\",\n",
      "            \"public_metrics\": {\n",
      "                \"like_count\": 0,\n",
      "                \"quote_count\": 0,\n",
      "                \"reply_count\": 0,\n",
      "                \"retweet_count\": 40\n",
      "            },\n",
      "            \"text\": \"RT @stillgray: FAKE NEWS: BLM's website hosts inaccurate information about Ma'Khia Bryant shooting https://t.co/ffqkIKRHzy\"\n",
      "        },\n",
      "        {\n",
      "            \"author_id\": \"2557458888\",\n",
      "            \"conversation_id\": \"1386841362243493895\",\n",
      "            \"id\": \"1386841362243493895\",\n",
      "            \"public_metrics\": {\n",
      "                \"like_count\": 0,\n",
      "                \"quote_count\": 0,\n",
      "                \"reply_count\": 0,\n",
      "                \"retweet_count\": 36\n",
      "            },\n",
      "            \"text\": \"RT @DailyCaller: NEW: BLM co-founder Patrice Cullors, recently under fire for her mansion spending spree, runs a jail reform group that dro\\u2026\"\n",
      "        },\n",
      "        {\n",
      "            \"author_id\": \"1382130852210020355\",\n",
      "            \"conversation_id\": \"1386841360758628366\",\n",
      "            \"id\": \"1386841360758628366\",\n",
      "            \"public_metrics\": {\n",
      "                \"like_count\": 0,\n",
      "                \"quote_count\": 0,\n",
      "                \"reply_count\": 0,\n",
      "                \"retweet_count\": 373\n",
      "            },\n",
      "            \"text\": \"RT @Rconstantino: Depois de George Soros, o especulador bilion\\u00e1rio e maior financiador de movimentos RADICAIS de esquerda como Antifa e BLM\\u2026\"\n",
      "        },\n",
      "        {\n",
      "            \"author_id\": \"1307011210563518465\",\n",
      "            \"conversation_id\": \"1386841357386461186\",\n",
      "            \"id\": \"1386841357386461186\",\n",
      "            \"public_metrics\": {\n",
      "                \"like_count\": 0,\n",
      "                \"quote_count\": 0,\n",
      "                \"reply_count\": 0,\n",
      "                \"retweet_count\": 0\n",
      "            },\n",
      "            \"text\": \"In 2020, over 5,300 NYPD officers either retired or resigned. That\\u2019s a 75% increase from 2019. \\n\\nAnti-police sentiment has real effects. The predictable outgrowth of fewer police is more crime and more death including in the black population. Real effects of BLM.\"\n",
      "        },\n",
      "        {\n",
      "            \"author_id\": \"19681270\",\n",
      "            \"conversation_id\": \"1386841350025400321\",\n",
      "            \"id\": \"1386841350025400321\",\n",
      "            \"public_metrics\": {\n",
      "                \"like_count\": 0,\n",
      "                \"quote_count\": 0,\n",
      "                \"reply_count\": 0,\n",
      "                \"retweet_count\": 1084\n",
      "            },\n",
      "            \"text\": \"RT @2emaNdelbbircS: I\\u2019m sure y\\u2019all already know, but Home Depot won\\u2019t buy into the BLM BS. Soooooo the left is boycotting them. BUY AT HOME\\u2026\"\n",
      "        },\n",
      "        {\n",
      "            \"author_id\": \"776998171\",\n",
      "            \"conversation_id\": \"1386841348888748034\",\n",
      "            \"id\": \"1386841348888748034\",\n",
      "            \"public_metrics\": {\n",
      "                \"like_count\": 0,\n",
      "                \"quote_count\": 0,\n",
      "                \"reply_count\": 0,\n",
      "                \"retweet_count\": 2\n",
      "            },\n",
      "            \"text\": \"RT @FishmanLevine: Black Lives Matter and Ma'Khia Bryant's Family Are Looking for a Fat Payday https://t.co/cAyfwhabQt\"\n",
      "        }\n",
      "    ],\n",
      "    \"meta\": {\n",
      "        \"newest_id\": \"1386841384280223746\",\n",
      "        \"next_token\": \"b26v89c19zqg8o3fosttbk8dxgfnzif3w8gzy8ze17m2l\",\n",
      "        \"oldest_id\": \"1386841348888748034\",\n",
      "        \"result_count\": 10\n",
      "    }\n",
      "}\n"
     ]
    }
   ],
   "source": [
    "main()"
   ]
  },
  {
   "cell_type": "code",
   "execution_count": null,
   "id": "shaped-evanescence",
   "metadata": {},
   "outputs": [],
   "source": []
  }
 ],
 "metadata": {
  "kernelspec": {
   "display_name": "Python 3",
   "language": "python",
   "name": "python3"
  },
  "language_info": {
   "codemirror_mode": {
    "name": "ipython",
    "version": 3
   },
   "file_extension": ".py",
   "mimetype": "text/x-python",
   "name": "python",
   "nbconvert_exporter": "python",
   "pygments_lexer": "ipython3",
   "version": "3.9.1"
  }
 },
 "nbformat": 4,
 "nbformat_minor": 5
}
