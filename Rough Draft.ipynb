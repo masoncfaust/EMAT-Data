{
 "cells": [
  {
   "cell_type": "code",
   "execution_count": 11,
   "id": "recorded-contact",
   "metadata": {},
   "outputs": [],
   "source": [
    "import requests\n",
    "import urllib\n",
    "import json\n",
    "import pandas as pd\n",
    "from vaderSentiment.vaderSentiment import SentimentIntensityAnalyzer\n",
    "import warnings"
   ]
  },
  {
   "cell_type": "code",
   "execution_count": 12,
   "id": "pleasant-bailey",
   "metadata": {
    "scrolled": false
   },
   "outputs": [],
   "source": [
    "Day_1 = pd.read_csv(r'C:\\Users\\mason\\Documents\\Data EMAT\\Day_1.csv')\n",
    "Day_2 = pd.read_csv(r'C:\\Users\\mason\\Documents\\Data EMAT\\Day_2.csv')\n",
    "Day_3 = pd.read_csv(r'C:\\Users\\mason\\Documents\\Data EMAT\\Day_3.csv')\n",
    "Day_4 = pd.read_csv(r'C:\\Users\\mason\\Documents\\Data EMAT\\Day_4.csv')\n",
    "Day_5 = pd.read_csv(r'C:\\Users\\mason\\Documents\\Data EMAT\\Day_5.csv')\n",
    "Day_6 = pd.read_csv(r'C:\\Users\\mason\\Documents\\Data EMAT\\Day_6.csv')"
   ]
  },
  {
   "cell_type": "code",
   "execution_count": 13,
   "id": "printable-links",
   "metadata": {},
   "outputs": [],
   "source": [
    "analyser = SentimentIntensityAnalyzer()\n",
    "warnings.filterwarnings('ignore')"
   ]
  },
  {
   "cell_type": "code",
   "execution_count": 17,
   "id": "stupid-devon",
   "metadata": {
    "scrolled": true
   },
   "outputs": [],
   "source": [
    "Day_1['vader_scores'] = [analyser.polarity_scores(x) for x in Day_1['text']]\n",
    "Day_2['vader_scores'] = [analyser.polarity_scores(x) for x in Day_2['text']]\n",
    "Day_3['vader_scores'] = [analyser.polarity_scores(x) for x in Day_3['text']]\n",
    "Day_4['vader_scores'] = [analyser.polarity_scores(x) for x in Day_4['text']]\n",
    "Day_5['vader_scores'] = [analyser.polarity_scores(x) for x in Day_5['text']]\n",
    "Day_6['vader_scores'] = [analyser.polarity_scores(x) for x in Day_6['text']]"
   ]
  },
  {
   "cell_type": "code",
   "execution_count": 24,
   "id": "drawn-differential",
   "metadata": {},
   "outputs": [],
   "source": [
    "Day_1['neg'] = [x['neg'] for x in Day_1['vader_scores']]\n",
    "Day_2['neg'] = [x['neg'] for x in Day_2['vader_scores']]\n",
    "Day_3['neg'] = [x['neg'] for x in Day_3['vader_scores']]\n",
    "Day_4['neg'] = [x['neg'] for x in Day_4['vader_scores']]\n",
    "Day_5['neg'] = [x['neg'] for x in Day_5['vader_scores']]\n",
    "Day_6['neg'] = [x['neg'] for x in Day_6['vader_scores']]"
   ]
  },
  {
   "cell_type": "code",
   "execution_count": 26,
   "id": "national-conviction",
   "metadata": {},
   "outputs": [],
   "source": [
    "from scipy import stats"
   ]
  },
  {
   "cell_type": "code",
   "execution_count": 28,
   "id": "clear-boating",
   "metadata": {},
   "outputs": [
    {
     "data": {
      "text/plain": [
       "0.08262876254180603"
      ]
     },
     "execution_count": 28,
     "metadata": {},
     "output_type": "execute_result"
    }
   ],
   "source": [
    "stats.describe(Day_1['neg']).mean"
   ]
  },
  {
   "cell_type": "code",
   "execution_count": 29,
   "id": "agreed-listing",
   "metadata": {},
   "outputs": [
    {
     "data": {
      "text/plain": [
       "0.09274832214765101"
      ]
     },
     "execution_count": 29,
     "metadata": {},
     "output_type": "execute_result"
    }
   ],
   "source": [
    "stats.describe(Day_2['neg']).mean"
   ]
  },
  {
   "cell_type": "code",
   "execution_count": 30,
   "id": "hired-visit",
   "metadata": {},
   "outputs": [
    {
     "data": {
      "text/plain": [
       "0.08262876254180603"
      ]
     },
     "execution_count": 30,
     "metadata": {},
     "output_type": "execute_result"
    }
   ],
   "source": [
    "stats.describe(Day_3['neg']).mean"
   ]
  },
  {
   "cell_type": "code",
   "execution_count": 31,
   "id": "approved-situation",
   "metadata": {},
   "outputs": [
    {
     "data": {
      "text/plain": [
       "0.09053333333333333"
      ]
     },
     "execution_count": 31,
     "metadata": {},
     "output_type": "execute_result"
    }
   ],
   "source": [
    "stats.describe(Day_4['neg']).mean"
   ]
  },
  {
   "cell_type": "code",
   "execution_count": 32,
   "id": "theoretical-mistress",
   "metadata": {},
   "outputs": [
    {
     "data": {
      "text/plain": [
       "0.11618060200668899"
      ]
     },
     "execution_count": 32,
     "metadata": {},
     "output_type": "execute_result"
    }
   ],
   "source": [
    "stats.describe(Day_5['neg']).mean"
   ]
  },
  {
   "cell_type": "code",
   "execution_count": 33,
   "id": "invalid-shakespeare",
   "metadata": {},
   "outputs": [
    {
     "data": {
      "text/plain": [
       "0.09819666666666665"
      ]
     },
     "execution_count": 33,
     "metadata": {},
     "output_type": "execute_result"
    }
   ],
   "source": [
    "stats.describe(Day_6['neg']).mean"
   ]
  },
  {
   "cell_type": "code",
   "execution_count": 34,
   "id": "experienced-democrat",
   "metadata": {},
   "outputs": [],
   "source": [
    "from matplotlib import pyplot as plt"
   ]
  },
  {
   "cell_type": "code",
   "execution_count": 49,
   "id": "collected-feature",
   "metadata": {},
   "outputs": [
    {
     "data": {
      "image/png": "[encoded data removed]",
      "text/plain": [
       "<Figure size 432x288 with 1 Axes>"
      ]
     },
     "metadata": {
      "needs_background": "light"
     },
     "output_type": "display_data"
    }
   ],
   "source": [
    "df = pd.DataFrame({'Average Negativity Rating': ['April, 28th', 'April, 29th', 'April 30th', 'May, 1st', 'May, 2nd', 'May, 3rd'], 'Joe Biden': [stats.describe(Day_1['neg']).mean, stats.describe(Day_2['neg']).mean, stats.describe(Day_3['neg']).mean, stats.describe(Day_4['neg']).mean, stats.describe(Day_5['neg']).mean, stats.describe(Day_6['neg']).mean]})\n",
    "ax = df.plot.bar(x='Average Negativity Rating', y='Joe Biden')"
   ]
  },
  {
   "cell_type": "code",
   "execution_count": null,
   "id": "animal-apartment",
   "metadata": {},
   "outputs": [],
   "source": []
  }
 ],
 "metadata": {
  "kernelspec": {
   "display_name": "Python 3",
   "language": "python",
   "name": "python3"
  },
  "language_info": {
   "codemirror_mode": {
    "name": "ipython",
    "version": 3
   },
   "file_extension": ".py",
   "mimetype": "text/x-python",
   "name": "python",
   "nbconvert_exporter": "python",
   "pygments_lexer": "ipython3",
   "version": "3.9.1"
  }
 },
 "nbformat": 4,
 "nbformat_minor": 5
}
