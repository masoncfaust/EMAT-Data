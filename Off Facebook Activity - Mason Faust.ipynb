{
 "cells": [
  {
   "cell_type": "markdown",
   "id": "saving-prison",
   "metadata": {},
   "source": [
    "# Off-Facebook Activity Report\n",
    "## Mason Faust"
   ]
  },
  {
   "cell_type": "markdown",
   "id": "according-little",
   "metadata": {},
   "source": [
    "The main thing I am going to be analying in this report is what events outside of facebook are being recorded the most with this set of sample data. I am mainly going to be focusing on the 10 most recent companies that have had an event triggered by this user. My hypothisis is that there is going to be a direct correlation between the amount of interaction that happen on a companies app or website and the amount of advertisements the user gets on facebook about that app or website."
   ]
  },
  {
   "cell_type": "code",
   "execution_count": 89,
   "id": "appropriate-spencer",
   "metadata": {},
   "outputs": [],
   "source": [
    "import json\n",
    "from matplotlib import pyplot as plt\n",
    "import datetime as dt\n",
    "import pandas as pd"
   ]
  },
  {
   "cell_type": "code",
   "execution_count": 90,
   "id": "finite-kitchen",
   "metadata": {},
   "outputs": [
    {
     "name": "stdout",
     "output_type": "stream",
     "text": [
      "dict_keys(['off_facebook_activity'])\n"
     ]
    }
   ],
   "source": [
    "with open(r'C:\\Users\\mason\\Desktop\\facebook-davidsilva100046_toshare\\facebook-davidsilva100046_toshare\\ads_and_businesses\\your_off-facebook_activity.json') as ofa:\n",
    "    act = json.load(ofa)\n",
    "print(act.keys())"
   ]
  },
  {
   "cell_type": "code",
   "execution_count": 91,
   "id": "metropolitan-intersection",
   "metadata": {
    "scrolled": true
   },
   "outputs": [
    {
     "data": {
      "text/plain": [
       "list"
      ]
     },
     "execution_count": 91,
     "metadata": {},
     "output_type": "execute_result"
    }
   ],
   "source": [
    "type(act['off_facebook_activity'])"
   ]
  },
  {
   "cell_type": "code",
   "execution_count": 92,
   "id": "arctic-civilization",
   "metadata": {
    "scrolled": false
   },
   "outputs": [
    {
     "data": {
      "text/plain": [
       "{'name': 'U.S. Bank - Inspired by customers',\n",
       " 'events': [{'id': 1591992844216198,\n",
       "   'type': 'ACTIVATE_APP',\n",
       "   'timestamp': 1594274368},\n",
       "  {'id': 1591992844216198, 'type': 'ACTIVATE_APP', 'timestamp': 1594239280},\n",
       "  {'id': 1591992844216198, 'type': 'ACTIVATE_APP', 'timestamp': 1594156238},\n",
       "  {'id': 1591992844216198, 'type': 'ACTIVATE_APP', 'timestamp': 1594066670},\n",
       "  {'id': 1591992844216198, 'type': 'ACTIVATE_APP', 'timestamp': 1593919348},\n",
       "  {'id': 1591992844216198, 'type': 'ACTIVATE_APP', 'timestamp': 1593652182},\n",
       "  {'id': 1591992844216198, 'type': 'ACTIVATE_APP', 'timestamp': 1593651360},\n",
       "  {'id': 1591992844216198, 'type': 'ACTIVATE_APP', 'timestamp': 1593273365},\n",
       "  {'id': 1591992844216198, 'type': 'ACTIVATE_APP', 'timestamp': 1593127728},\n",
       "  {'id': 1591992844216198, 'type': 'ACTIVATE_APP', 'timestamp': 1593100373},\n",
       "  {'id': 1591992844216198, 'type': 'ACTIVATE_APP', 'timestamp': 1593095964},\n",
       "  {'id': 1591992844216198, 'type': 'ACTIVATE_APP', 'timestamp': 1592933608},\n",
       "  {'id': 1591992844216198, 'type': 'ACTIVATE_APP', 'timestamp': 1592933352},\n",
       "  {'id': 1591992844216198, 'type': 'ACTIVATE_APP', 'timestamp': 1592882594},\n",
       "  {'id': 1591992844216198, 'type': 'ACTIVATE_APP', 'timestamp': 1592624705},\n",
       "  {'id': 1591992844216198, 'type': 'ACTIVATE_APP', 'timestamp': 1592624538},\n",
       "  {'id': 1591992844216198, 'type': 'ACTIVATE_APP', 'timestamp': 1592575910},\n",
       "  {'id': 1591992844216198, 'type': 'ACTIVATE_APP', 'timestamp': 1592523210}]}"
      ]
     },
     "execution_count": 92,
     "metadata": {},
     "output_type": "execute_result"
    }
   ],
   "source": [
    "act['off_facebook_activity'][0]"
   ]
  },
  {
   "cell_type": "code",
   "execution_count": 93,
   "id": "affiliated-exposure",
   "metadata": {},
   "outputs": [
    {
     "data": {
      "text/plain": [
       "dict"
      ]
     },
     "execution_count": 93,
     "metadata": {},
     "output_type": "execute_result"
    }
   ],
   "source": [
    "type(act['off_facebook_activity'][0])"
   ]
  },
  {
   "cell_type": "code",
   "execution_count": 94,
   "id": "processed-front",
   "metadata": {},
   "outputs": [
    {
     "data": {
      "text/plain": [
       "dict_keys(['name', 'events'])"
      ]
     },
     "execution_count": 94,
     "metadata": {},
     "output_type": "execute_result"
    }
   ],
   "source": [
    "act['off_facebook_activity'][0].keys()"
   ]
  },
  {
   "cell_type": "code",
   "execution_count": 95,
   "id": "collect-result",
   "metadata": {},
   "outputs": [
    {
     "data": {
      "text/plain": [
       "True"
      ]
     },
     "execution_count": 95,
     "metadata": {},
     "output_type": "execute_result"
    }
   ],
   "source": [
    "act['off_facebook_activity'][0]['events'][0]['type'] == 'ACTIVATE_APP'"
   ]
  },
  {
   "cell_type": "markdown",
   "id": "alpha-highway",
   "metadata": {},
   "source": [
    "## The Data"
   ]
  },
  {
   "cell_type": "markdown",
   "id": "incomplete-nebraska",
   "metadata": {},
   "source": [
    "The data being used in this report is a json file that the user has requested from facebook.com reguarding the information gathered from their account while usings apps and websites outside of facebook. This file is titled \"your off-facebook activity\" and is organised as a list of dictionaries, by the most recent activity at the top and least recent activity at the bottom. Each dictonary has a name key and an events key. The name key lists the name of the outside source, and the events key shows every event the user had had with that source, listing the event ID, the type of event, and the timestamp for each one. I trust this data becasue it was given by request from facebook themselves and I have no concerns using this data."
   ]
  },
  {
   "cell_type": "code",
   "execution_count": 96,
   "id": "green-nigeria",
   "metadata": {},
   "outputs": [],
   "source": [
    "apps = []\n",
    "events = []\n",
    "actapp = []\n",
    "custom = []\n",
    "search = []\n",
    "viewc = []\n",
    "ad = []\n",
    "view = []\n",
    "\n",
    "for i in act['off_facebook_activity']:\n",
    "    apps.append(i['name'])\n",
    "    events.append((len(i['events'])))\n",
    "    actapp.append(len([x for x in i['events'] if x['type'] == 'ACTIVATE_APP']))\n",
    "    custom.append(len([x for x in i['events'] if x['type'] == 'CUSTOM']))\n",
    "    search.append(len([x for x in i['events'] if x['type'] == 'SEARCH']))\n",
    "    viewc.append(len([x for x in i['events'] if x['type'] == 'VIEW_CONTENT']))\n",
    "    ad.append(len([x for x in i['events'] if x['type'] == 'AD_REQUEST']))\n",
    "    view.append(len([x for x in i['events'] if x['type'] == 'PAGE_VIEW']))"
   ]
  },
  {
   "cell_type": "code",
   "execution_count": 97,
   "id": "reduced-thesaurus",
   "metadata": {},
   "outputs": [
    {
     "data": {
      "text/html": [
       "<div>\n",
       "<style scoped>\n",
       "    .dataframe tbody tr th:only-of-type {\n",
       "        vertical-align: middle;\n",
       "    }\n",
       "\n",
       "    .dataframe tbody tr th {\n",
       "        vertical-align: top;\n",
       "    }\n",
       "\n",
       "    .dataframe thead th {\n",
       "        text-align: right;\n",
       "    }\n",
       "</style>\n",
       "<table border=\"1\" class=\"dataframe\">\n",
       "  <thead>\n",
       "    <tr style=\"text-align: right;\">\n",
       "      <th></th>\n",
       "      <th>App</th>\n",
       "      <th>Event Count</th>\n",
       "      <th>Activate App</th>\n",
       "      <th>Custom</th>\n",
       "      <th>Search</th>\n",
       "      <th>View Content</th>\n",
       "      <th>Ad Request</th>\n",
       "      <th>Page Views</th>\n",
       "    </tr>\n",
       "  </thead>\n",
       "  <tbody>\n",
       "    <tr>\n",
       "      <th>0</th>\n",
       "      <td>U.S. Bank - Inspired by customers</td>\n",
       "      <td>18</td>\n",
       "      <td>18</td>\n",
       "      <td>0</td>\n",
       "      <td>0</td>\n",
       "      <td>0</td>\n",
       "      <td>0</td>\n",
       "      <td>0</td>\n",
       "    </tr>\n",
       "    <tr>\n",
       "      <th>1</th>\n",
       "      <td>Egg, Inc.</td>\n",
       "      <td>165</td>\n",
       "      <td>109</td>\n",
       "      <td>0</td>\n",
       "      <td>0</td>\n",
       "      <td>0</td>\n",
       "      <td>35</td>\n",
       "      <td>0</td>\n",
       "    </tr>\n",
       "    <tr>\n",
       "      <th>2</th>\n",
       "      <td>AP News</td>\n",
       "      <td>465</td>\n",
       "      <td>133</td>\n",
       "      <td>325</td>\n",
       "      <td>0</td>\n",
       "      <td>0</td>\n",
       "      <td>7</td>\n",
       "      <td>0</td>\n",
       "    </tr>\n",
       "    <tr>\n",
       "      <th>3</th>\n",
       "      <td>TikTok - Make Your Day</td>\n",
       "      <td>371</td>\n",
       "      <td>99</td>\n",
       "      <td>267</td>\n",
       "      <td>5</td>\n",
       "      <td>0</td>\n",
       "      <td>0</td>\n",
       "      <td>0</td>\n",
       "    </tr>\n",
       "    <tr>\n",
       "      <th>4</th>\n",
       "      <td>uoregon.edu</td>\n",
       "      <td>1</td>\n",
       "      <td>0</td>\n",
       "      <td>0</td>\n",
       "      <td>0</td>\n",
       "      <td>0</td>\n",
       "      <td>0</td>\n",
       "      <td>1</td>\n",
       "    </tr>\n",
       "    <tr>\n",
       "      <th>5</th>\n",
       "      <td>kent.edu</td>\n",
       "      <td>226</td>\n",
       "      <td>0</td>\n",
       "      <td>0</td>\n",
       "      <td>0</td>\n",
       "      <td>102</td>\n",
       "      <td>0</td>\n",
       "      <td>124</td>\n",
       "    </tr>\n",
       "    <tr>\n",
       "      <th>6</th>\n",
       "      <td>etsy.com</td>\n",
       "      <td>6</td>\n",
       "      <td>0</td>\n",
       "      <td>0</td>\n",
       "      <td>0</td>\n",
       "      <td>2</td>\n",
       "      <td>0</td>\n",
       "      <td>3</td>\n",
       "    </tr>\n",
       "    <tr>\n",
       "      <th>7</th>\n",
       "      <td>wayfair.com</td>\n",
       "      <td>10</td>\n",
       "      <td>0</td>\n",
       "      <td>3</td>\n",
       "      <td>0</td>\n",
       "      <td>4</td>\n",
       "      <td>0</td>\n",
       "      <td>3</td>\n",
       "    </tr>\n",
       "    <tr>\n",
       "      <th>8</th>\n",
       "      <td>eBay Business Manager</td>\n",
       "      <td>2</td>\n",
       "      <td>0</td>\n",
       "      <td>0</td>\n",
       "      <td>0</td>\n",
       "      <td>1</td>\n",
       "      <td>0</td>\n",
       "      <td>1</td>\n",
       "    </tr>\n",
       "    <tr>\n",
       "      <th>9</th>\n",
       "      <td>norlanglass.com</td>\n",
       "      <td>1</td>\n",
       "      <td>0</td>\n",
       "      <td>0</td>\n",
       "      <td>0</td>\n",
       "      <td>1</td>\n",
       "      <td>0</td>\n",
       "      <td>0</td>\n",
       "    </tr>\n",
       "  </tbody>\n",
       "</table>\n",
       "</div>"
      ],
      "text/plain": [
       "                                 App  Event Count  Activate App  Custom  \\\n",
       "0  U.S. Bank - Inspired by customers           18            18       0   \n",
       "1                          Egg, Inc.          165           109       0   \n",
       "2                            AP News          465           133     325   \n",
       "3             TikTok - Make Your Day          371            99     267   \n",
       "4                        uoregon.edu            1             0       0   \n",
       "5                           kent.edu          226             0       0   \n",
       "6                           etsy.com            6             0       0   \n",
       "7                        wayfair.com           10             0       3   \n",
       "8              eBay Business Manager            2             0       0   \n",
       "9                    norlanglass.com            1             0       0   \n",
       "\n",
       "   Search  View Content  Ad Request  Page Views  \n",
       "0       0             0           0           0  \n",
       "1       0             0          35           0  \n",
       "2       0             0           7           0  \n",
       "3       5             0           0           0  \n",
       "4       0             0           0           1  \n",
       "5       0           102           0         124  \n",
       "6       0             2           0           3  \n",
       "7       0             4           0           3  \n",
       "8       0             1           0           1  \n",
       "9       0             1           0           0  "
      ]
     },
     "execution_count": 97,
     "metadata": {},
     "output_type": "execute_result"
    }
   ],
   "source": [
    "appbyevent = pd.DataFrame(columns = ('App', 'Event Count', 'Activate App', 'Custom', 'Search', 'View Content', 'Ad Request', 'Page Views'))\n",
    "appbyevent['App'] = apps\n",
    "appbyevent['Event Count'] = events\n",
    "appbyevent['Activate App'] = actapp\n",
    "appbyevent['Custom'] = custom\n",
    "appbyevent['Search'] = search\n",
    "appbyevent['View Content'] = viewc\n",
    "appbyevent['Ad Request'] = ad\n",
    "appbyevent['Page Views'] = view\n",
    "appbyevent[0:10]"
   ]
  },
  {
   "cell_type": "markdown",
   "id": "velvet-column",
   "metadata": {},
   "source": [
    "## Data Preperation"
   ]
  },
  {
   "cell_type": "markdown",
   "id": "bronze-license",
   "metadata": {},
   "source": [
    "With the sections of code above, I have created a list of the number of times each event happened to each outside source, including the total of every event combined. I did this by creating a for loop that goes through every app directory and states the app's name and the events list showing how many times each event happened in each app. I was then able to use that for loop to make the dataframe that allowed me to create the spreadsheet above. In that spreadsheet, I chose to only select the 10 most recent apps interacted with, becuase data usage could have been different in the past and it is small enough dataset to easy visualize with every event. This will also show us the effect on rarely used apps as well as requently used apps because the last apps the user open are random and not specifically organised least to most used."
   ]
  },
  {
   "cell_type": "code",
   "execution_count": 98,
   "id": "atomic-practice",
   "metadata": {
    "scrolled": false
   },
   "outputs": [
    {
     "data": {
      "image/png": "[encoded data removed]",
      "text/plain": [
       "<Figure size 432x288 with 1 Axes>"
      ]
     },
     "metadata": {
      "needs_background": "light"
     },
     "output_type": "display_data"
    }
   ],
   "source": [
    "\n",
    "plt.bar(appbyevent['App'][0:10], appbyevent['Activate App'][0:10], color = 'b', width = .50)\n",
    "plt.bar(appbyevent['App'][0:10], appbyevent['Custom'][0:10], color = 'g', width = .50)\n",
    "plt.bar(appbyevent['App'][0:10], appbyevent['Search'][0:10], color = 'k', width = .50)\n",
    "plt.bar(appbyevent['App'][0:10], appbyevent['View Content'][0:10], color = 'y', width = .50)\n",
    "plt.bar(appbyevent['App'][0:10], appbyevent['Ad Request'][0:10], color = 'r', width = .50)\n",
    "plt.bar(appbyevent['App'][0:10], appbyevent['Page Views'][0:10], color = 'm', width = .50)\n",
    "plt.xticks(rotation = 90)\n",
    "plt.show()"
   ]
  },
  {
   "cell_type": "markdown",
   "id": "attractive-marketing",
   "metadata": {},
   "source": [
    "## Data Visualization"
   ]
  },
  {
   "cell_type": "markdown",
   "id": "herbal-bracket",
   "metadata": {},
   "source": [
    "The bar graph above shows how many times an app was activated (blue) an app was searched (black) an app was viewed (yellow) a page was viewed (magenta) and that a custom event happened (green). The red bar represent the ammount of ads that were requested for those apps."
   ]
  },
  {
   "cell_type": "markdown",
   "id": "mighty-combine",
   "metadata": {},
   "source": [
    "## Conclusions"
   ]
  },
  {
   "cell_type": "markdown",
   "id": "completed-overall",
   "metadata": {},
   "source": [
    "My hypothesis about the corrilation between events and advertisements were incorrect. Based on the bar graph, large amounts of custom events seems to have little to no effect on ad requests at all. It does seem that there is a corrilation between activated apps and ad requests though. I think there is a lot more context when it comes to advertisement rather then just events = advertisements. Like the kent.edu website was viewed quite a bit but resulted in no advertisment requests, probably becuase that website wasn't selling a product that needs mass advertisement on facebook. My conclusion is that there is a combination of other factors alone with visits to websites that control the kinds of advertisements the user gets on facebook."
   ]
  },
  {
   "cell_type": "markdown",
   "id": "swedish-title",
   "metadata": {},
   "source": [
    "## Limitations, Alternitive Approaches, and Next Steps"
   ]
  },
  {
   "cell_type": "markdown",
   "id": "herbal-attraction",
   "metadata": {},
   "source": [
    "One limitation I noticed when doing this assignment was not using my own facebook data. I have never had a facebook, so I feel I missed out on being able to make personal hypothesis or being able to understand the data by knowing how I use the app. I also feel that it would be interesting to see how results change if the data pool was bigger and or organised from most to least used outside apps. One question that I got while doing this assignment is what exactly is a custom event? To understand this topic better, I am going to ask my family members for their facebook data so I can work with a broader dataset with more advertisemnt information. Also becasue I would know the person who owns the account well, I could make better assumptions and observations based on what I know about their personality, how they use the internet and the products they like."
   ]
  }
 ],
 "metadata": {
  "kernelspec": {
   "display_name": "Python 3",
   "language": "python",
   "name": "python3"
  },
  "language_info": {
   "codemirror_mode": {
    "name": "ipython",
    "version": 3
   },
   "file_extension": ".py",
   "mimetype": "text/x-python",
   "name": "python",
   "nbconvert_exporter": "python",
   "pygments_lexer": "ipython3",
   "version": "3.9.1"
  }
 },
 "nbformat": 4,
 "nbformat_minor": 5
}
